{
 "cells": [
  {
   "cell_type": "code",
   "execution_count": 1,
   "metadata": {},
   "outputs": [],
   "source": [
    "import pandas as pd"
   ]
  },
  {
   "cell_type": "code",
   "execution_count": 4,
   "metadata": {},
   "outputs": [],
   "source": [
    "df=pd.read_csv(r'C:\\Users\\adith\\Documents\\Projects\\python-projects\\genai_hackathon\\lookify\\backend\\dataset\\main_dataset.csv')"
   ]
  },
  {
   "cell_type": "code",
   "execution_count": 30,
   "metadata": {},
   "outputs": [
    {
     "data": {
      "text/plain": [
       "article_type\n",
       "tshirts         6246\n",
       "shirts          3077\n",
       "casual_shoes    2759\n",
       "watches         2485\n",
       "sports_shoes    2020\n",
       "                ... \n",
       "suspenders        40\n",
       "camisoles         39\n",
       "mufflers          38\n",
       "patiala           38\n",
       "jeggings          34\n",
       "Name: count, Length: 80, dtype: int64"
      ]
     },
     "execution_count": 30,
     "metadata": {},
     "output_type": "execute_result"
    }
   ],
   "source": [
    "#based on value counts of article_type of give me top 80 article_type\n",
    "l=df['article_type'].value_counts().head(80).index.tolist()"
   ]
  },
  {
   "cell_type": "code",
   "execution_count": null,
   "metadata": {},
   "outputs": [],
   "source": [
    "\n"
   ]
  },
  {
   "cell_type": "code",
   "execution_count": 17,
   "metadata": {},
   "outputs": [
    {
     "data": {
      "text/plain": [
       "29"
      ]
     },
     "execution_count": 17,
     "metadata": {},
     "output_type": "execute_result"
    }
   ],
   "source": [
    "len(df1)"
   ]
  },
  {
   "cell_type": "code",
   "execution_count": 27,
   "metadata": {},
   "outputs": [
    {
     "data": {
      "text/plain": [
       "color\n",
       "black                9553\n",
       "white                5159\n",
       "blue                 4511\n",
       "brown                3451\n",
       "grey                 2684\n",
       "red                  2249\n",
       "green                1925\n",
       "navy_blue            1685\n",
       "pink                 1601\n",
       "purple               1591\n",
       "silver               1084\n",
       "beige                 727\n",
       "yellow                634\n",
       "gold                  627\n",
       "maroon                571\n",
       "orange                483\n",
       "olive                 405\n",
       "cream                 388\n",
       "multi                 385\n",
       "steel                 315\n",
       "charcoal              225\n",
       "peach                 180\n",
       "skin                  179\n",
       "off_white             173\n",
       "lavender              159\n",
       "grey_melange          145\n",
       "khaki                 134\n",
       "teal                  118\n",
       "tan                   114\n",
       "magenta               114\n",
       "mustard                97\n",
       "bronze                 95\n",
       "copper                 86\n",
       "turquoise_blue         67\n",
       "rust                   65\n",
       "burgundy               45\n",
       "metallic               43\n",
       "coffee_brown           31\n",
       "mauve                  29\n",
       "rose                   28\n",
       "nude                   23\n",
       "sea_green              21\n",
       "mushroom_brown         16\n",
       "na                     15\n",
       "taupe                  11\n",
       "fluorescent_green       5\n",
       "lime_green              5\n",
       "Name: count, dtype: int64"
      ]
     },
     "execution_count": 27,
     "metadata": {},
     "output_type": "execute_result"
    }
   ],
   "source": [
    "df['color'].value_counts().head(50)"
   ]
  },
  {
   "cell_type": "code",
   "execution_count": null,
   "metadata": {},
   "outputs": [],
   "source": []
  }
 ],
 "metadata": {
  "kernelspec": {
   "display_name": "Python 3",
   "language": "python",
   "name": "python3"
  },
  "language_info": {
   "codemirror_mode": {
    "name": "ipython",
    "version": 3
   },
   "file_extension": ".py",
   "mimetype": "text/x-python",
   "name": "python",
   "nbconvert_exporter": "python",
   "pygments_lexer": "ipython3",
   "version": "3.12.0"
  }
 },
 "nbformat": 4,
 "nbformat_minor": 2
}
